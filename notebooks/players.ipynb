{
 "cells": [
  {
   "cell_type": "code",
   "execution_count": 31,
   "id": "9e72f9a4-2562-42df-9b7c-bc5a52f24fac",
   "metadata": {},
   "outputs": [],
   "source": [
    "from pyspark.sql import SparkSession\n",
    "from pyspark.sql.functions import *"
   ]
  },
  {
   "cell_type": "code",
   "execution_count": 32,
   "id": "9b81d935-aac2-4376-b60a-35ffa1030aca",
   "metadata": {},
   "outputs": [],
   "source": [
    "spark= SparkSession.builder.getOrCreate()"
   ]
  },
  {
   "cell_type": "code",
   "execution_count": 33,
   "id": "1267fe7b-2a19-40fa-8e4f-f88cb3801d0c",
   "metadata": {},
   "outputs": [],
   "source": [
    "players= spark.read.format('csv')\\\n",
    "    .option(\"header\", \"True\")\\\n",
    "    .option(\"inferSchema\", \"True\")\\\n",
    "    .load(\"/home/jovyan/work/data/players.csv\")"
   ]
  },
  {
   "cell_type": "code",
   "execution_count": 34,
   "id": "1705d70b-fab4-494e-9987-7575abd3b175",
   "metadata": {},
   "outputs": [
    {
     "name": "stdout",
     "output_type": "stream",
     "text": [
      "+---------+---------+---------+-----+---+---+---+---+---+---+---+---+---+---+-------+-------+----+------+---+----+---+------+-------+------+-------+------+----------+---+\n",
      "| LastName|FirstName|     Date|Start|Pos|Min|  G|  A| PK|PKA|  S|SoT| YK| RK|Touches|Tackles|Ints|Blocks| xG|npxG|xAG|Passes|PassesA|PrgPas|Carries|PrgCar|      Line|  C|\n",
      "+---------+---------+---------+-----+---+---+---+---+---+---+---+---+---+---+-------+-------+----+------+---+----+---+------+-------+------+-------+------+----------+---+\n",
      "| Bellerin|   Hector|8/11/2017|    1| WB| 90|  0|  0|  0|  0|  1|  1|  0|  0|     79|      3|   0|     0|0.3| 0.3|0.0|    61|     70|     3|     51|     1|  Defender|  0|\n",
      "|   Elneny|  Mohamed|8/11/2017|    1| CM| 66|  0|  1|  0|  0|  1|  0|  0|  0|     82|      4|   0|     2|0.0| 0.0|0.1|    65|     72|     4|     57|     0|Midfielder|  0|\n",
      "|  Holding|      Rob|8/11/2017|    1| CB| 66|  0|  0|  0|  0|  0|  0|  0|  0|     75|      1|   1|     0|0.0| 0.0|0.0|    50|     60|     4|     50|     1|  Defender|  0|\n",
      "|Kolasinac|     Sead|8/11/2017|    1| CB| 90|  0|  1|  0|  0|  1|  1|  0|  0|     81|      4|   1|     0|0.0| 0.0|0.6|    59|     73|     9|     49|     7|  Defender|  0|\n",
      "|Lacazette|Alexandre|8/11/2017|    1| FW| 90|  1|  0|  0|  0|  3|  2|  0|  0|     34|      2|   0|     1|0.3| 0.3|0.4|    20|     24|     3|     19|     1|   Forward|  0|\n",
      "|  Monreal|    Nacho|8/11/2017|    1| CB| 90|  0|  0|  0|  0|  0|  0|  0|  0|     70|      2|   5|     0|0.0| 0.0|0.0|    54|     57|     3|     43|     1|  Defender|  0|\n",
      "|     Ozil|    Mesut|8/11/2017|    1| AM| 90|  0|  0|  0|  0|  3|  0|  0|  0|     95|      1|   0|     1|0.1| 0.1|0.6|    70|     86|     6|     69|     3|Midfielder|  0|\n",
      "|  Welbeck|    Danny|8/11/2017|    1| AM| 74|  1|  0|  0|  0|  3|  1|  0|  0|     31|      1|   1|     0|1.0| 1.0|0.4|    16|     21|     2|     18|     3|Midfielder|  0|\n",
      "|    Xhaka|   Granit|8/11/2017|    1| CM| 90|  0|  2|  0|  0|  4|  1|  0|  0|    114|      1|   1|     1|0.1| 0.1|0.2|    86|    106|    20|     80|     4|Midfielder|  0|\n",
      "|   Ramsey|    Aaron|8/11/2017|    0| DM| 24|  1|  0|  0|  0|  4|  1|  0|  0|     19|      0|   0|     0|0.4| 0.4|0.0|     9|     12|     1|     13|     0|Midfielder|  0|\n",
      "| Bellerin|   Hector|8/19/2017|    1| WB| 90|  0|  0|  0|  0|  2|  1|  0|  0|     83|      2|   0|     0|0.1| 0.1|0.0|    66|     77|     6|     47|     2|  Defender|  0|\n",
      "|Kolasinac|     Sead|8/19/2017|    1| CB| 65|  0|  0|  0|  0|  0|  0|  0|  0|     60|      0|   0|     0|0.0| 0.0|0.0|    52|     58|     5|     43|     2|  Defender|  0|\n",
      "|Lacazette|Alexandre|8/19/2017|    1| FW| 77|  0|  0|  0|  0|  0|  0|  0|  0|     47|      0|   0|     1|0.0| 0.0|0.0|    29|     39|     4|     28|     1|   Forward|  0|\n",
      "|  Monreal|    Nacho|8/19/2017|    1| CB| 90|  0|  0|  0|  0|  0|  0|  0|  0|     88|      3|   0|     0|0.0| 0.0|0.1|    76|     83|     2|     61|     0|  Defender|  0|\n",
      "|  Mustafi| Shkodran|8/19/2017|    1| CB| 90|  0|  0|  0|  0|  1|  0|  0|  0|     95|      3|   1|     0|0.0| 0.0|0.1|    76|     89|     6|     72|     3|  Defender|  0|\n",
      "|     Ozil|    Mesut|8/19/2017|    1| AM| 90|  0|  0|  0|  0|  2|  0|  0|  0|    106|      0|   0|     0|0.1| 0.1|0.5|    94|    103|    15|     84|     7|Midfielder|  0|\n",
      "|   Ramsey|    Aaron|8/19/2017|    1| CM| 90|  0|  0|  0|  0|  4|  2|  0|  0|     96|      3|   0|     1|0.5| 0.5|0.0|    74|     85|    12|     73|     1|Midfielder|  0|\n",
      "|  Welbeck|    Danny|8/19/2017|    1| AM| 90|  0|  0|  0|  0|  3|  2|  0|  0|     32|      1|   0|     0|0.6| 0.6|0.0|    19|     24|     2|     28|     3|Midfielder|  0|\n",
      "|    Xhaka|   Granit|8/19/2017|    1| CM| 78|  0|  0|  0|  0|  2|  1|  0|  0|    113|      0|   3|     0|0.1| 0.1|0.1|    86|    106|    17|     85|     3|Midfielder|  0|\n",
      "|    Iwobi|     Alex|8/19/2017|    0| DM| 12|  0|  0|  0|  0|  0|  0|  0|  0|     24|      1|   0|     0|0.0| 0.0|0.0|    22|     24|     6|     21|     2|Midfielder|  0|\n",
      "+---------+---------+---------+-----+---+---+---+---+---+---+---+---+---+---+-------+-------+----+------+---+----+---+------+-------+------+-------+------+----------+---+\n",
      "only showing top 20 rows\n",
      "\n"
     ]
    }
   ],
   "source": [
    "players.show()"
   ]
  },
  {
   "cell_type": "code",
   "execution_count": 35,
   "id": "296c749b-8ce3-43b0-a519-1b08fb489ad8",
   "metadata": {},
   "outputs": [
    {
     "data": {
      "text/plain": [
       "['LastName',\n",
       " 'FirstName',\n",
       " 'Date',\n",
       " 'Start',\n",
       " 'Pos',\n",
       " 'Min',\n",
       " 'G',\n",
       " 'A',\n",
       " 'PK',\n",
       " 'PKA',\n",
       " 'S',\n",
       " 'SoT',\n",
       " 'YK',\n",
       " 'RK',\n",
       " 'Touches',\n",
       " 'Tackles',\n",
       " 'Ints',\n",
       " 'Blocks',\n",
       " 'xG',\n",
       " 'npxG',\n",
       " 'xAG',\n",
       " 'Passes',\n",
       " 'PassesA',\n",
       " 'PrgPas',\n",
       " 'Carries',\n",
       " 'PrgCar',\n",
       " 'Line',\n",
       " 'C']"
      ]
     },
     "execution_count": 35,
     "metadata": {},
     "output_type": "execute_result"
    }
   ],
   "source": [
    "players.columns"
   ]
  },
  {
   "cell_type": "code",
   "execution_count": 36,
   "id": "f836af80-4f96-437e-abb7-5a279f460dba",
   "metadata": {},
   "outputs": [
    {
     "data": {
      "text/plain": [
       "StructType([StructField('LastName', StringType(), True), StructField('FirstName', StringType(), True), StructField('Date', StringType(), True), StructField('Start', IntegerType(), True), StructField('Pos', StringType(), True), StructField('Min', IntegerType(), True), StructField('G', IntegerType(), True), StructField('A', IntegerType(), True), StructField('PK', IntegerType(), True), StructField('PKA', IntegerType(), True), StructField('S', IntegerType(), True), StructField('SoT', IntegerType(), True), StructField('YK', IntegerType(), True), StructField('RK', IntegerType(), True), StructField('Touches', IntegerType(), True), StructField('Tackles', IntegerType(), True), StructField('Ints', IntegerType(), True), StructField('Blocks', IntegerType(), True), StructField('xG', DoubleType(), True), StructField('npxG', DoubleType(), True), StructField('xAG', DoubleType(), True), StructField('Passes', IntegerType(), True), StructField('PassesA', IntegerType(), True), StructField('PrgPas', IntegerType(), True), StructField('Carries', IntegerType(), True), StructField('PrgCar', IntegerType(), True), StructField('Line', StringType(), True), StructField('C', IntegerType(), True)])"
      ]
     },
     "execution_count": 36,
     "metadata": {},
     "output_type": "execute_result"
    }
   ],
   "source": [
    "players.schema"
   ]
  },
  {
   "cell_type": "code",
   "execution_count": 37,
   "id": "e6826a4d-f4f2-40b6-bd25-4573272098a4",
   "metadata": {},
   "outputs": [],
   "source": [
    "players.createOrReplaceTempView(\"players\")"
   ]
  },
  {
   "cell_type": "code",
   "execution_count": 38,
   "id": "8f4ec890-a3d1-41c1-8f80-5e5f8c22e2c1",
   "metadata": {},
   "outputs": [
    {
     "data": {
      "text/plain": [
       "2741"
      ]
     },
     "execution_count": 38,
     "metadata": {},
     "output_type": "execute_result"
    }
   ],
   "source": [
    "spark.sql(\"\"\"\n",
    "    select concat(firstname, \" \", lastname) as fullname\n",
    "    from players\n",
    "\n",
    "\"\"\").count()"
   ]
  },
  {
   "cell_type": "code",
   "execution_count": 39,
   "id": "cb21c606-ff23-46bd-9a03-9db78e9c9bbd",
   "metadata": {},
   "outputs": [
    {
     "name": "stdout",
     "output_type": "stream",
     "text": [
      "+----------------+\n",
      "|        fullname|\n",
      "+----------------+\n",
      "|Emile Smith Rowe|\n",
      "| Folarin Balogun|\n",
      "| Hector Bellerin|\n",
      "|     Joe Willock|\n",
      "|  William Saliba|\n",
      "|    Aaron Ramsey|\n",
      "|     Bukayo Saka|\n",
      "|  Kieran Tierney|\n",
      "|Shkodran Mustafi|\n",
      "| Daniel Ceballos|\n",
      "+----------------+\n",
      "only showing top 10 rows\n",
      "\n"
     ]
    }
   ],
   "source": [
    "distinct_players= spark.sql(\"\"\"\n",
    "    select distinct concat(firstname, \" \", lastname) as fullname\n",
    "    from players\n",
    "\n",
    "\"\"\")\n",
    "distinct_players.show(10)"
   ]
  },
  {
   "cell_type": "code",
   "execution_count": 40,
   "id": "d31e3785-0cab-4e30-a079-b72b9487b729",
   "metadata": {},
   "outputs": [
    {
     "name": "stdout",
     "output_type": "stream",
     "text": [
      "+--------------------+\n",
      "|count(DISTINCT Date)|\n",
      "+--------------------+\n",
      "|                 214|\n",
      "+--------------------+\n",
      "\n"
     ]
    }
   ],
   "source": [
    "players_Dates= spark.sql(\"\"\"\n",
    "    select count(distinct Date) \n",
    "    from players\n",
    "\n",
    "\"\"\")\n",
    "players_Dates.show()"
   ]
  },
  {
   "cell_type": "markdown",
   "id": "9ff7644d-0b08-4d9d-a06c-d6a98ec1d3c3",
   "metadata": {},
   "source": [
    "## Here we make sure that the distinct count date for matches in DimMatches Equal the distinct count Date for DimPlayers 214"
   ]
  },
  {
   "cell_type": "code",
   "execution_count": 41,
   "id": "3ef5be0e-fa39-4e65-b25e-f8ed29f3a28f",
   "metadata": {},
   "outputs": [],
   "source": [
    "distinct_players= distinct_players.withColumn(\"PlayerID\", monotonically_increasing_id())"
   ]
  },
  {
   "cell_type": "code",
   "execution_count": 42,
   "id": "6423abf7-dfc9-43bd-8453-c1dea0b44624",
   "metadata": {},
   "outputs": [
    {
     "name": "stdout",
     "output_type": "stream",
     "text": [
      "+-------------------+\n",
      "|fullname           |\n",
      "+-------------------+\n",
      "|Hector Bellerin    |\n",
      "|Mohamed Elneny     |\n",
      "|Rob Holding        |\n",
      "|Sead Kolasinac     |\n",
      "|Alexandre Lacazette|\n",
      "+-------------------+\n",
      "only showing top 5 rows\n",
      "\n"
     ]
    }
   ],
   "source": [
    "players= players.withColumn('fullname', concat_ws(\" \", col('FirstName'),col('LastName')))\n",
    "players.select(\"fullname\").show(5, False)"
   ]
  },
  {
   "cell_type": "code",
   "execution_count": 43,
   "id": "35c9a9ed-1b08-4bf4-bd68-0e4661ed5fff",
   "metadata": {},
   "outputs": [],
   "source": [
    "dimPlayer= players.join(distinct_players, on ='fullname', how=\"inner\")"
   ]
  },
  {
   "cell_type": "code",
   "execution_count": 44,
   "id": "94486e9b-3ec7-4746-a5fd-690784d11665",
   "metadata": {
    "scrolled": true
   },
   "outputs": [],
   "source": [
    "dimPlayer.write.csv('/home/jovyan/work/data/Dimplayers.csv', header=True, mode=\"overwrite\")"
   ]
  },
  {
   "cell_type": "code",
   "execution_count": 45,
   "id": "a24b8224-5a63-4302-8898-15aa93070030",
   "metadata": {},
   "outputs": [
    {
     "name": "stdout",
     "output_type": "stream",
     "text": [
      "+--------+---------+---------+---------+-----+---+---+---+---+---+---+\n",
      "|PlayerID| LastName|FirstName|     Date|Start|Pos|Min|  G|  A| PK|PKA|\n",
      "+--------+---------+---------+---------+-----+---+---+---+---+---+---+\n",
      "|       2| Bellerin|   Hector|8/11/2017|    1| WB| 90|  0|  0|  0|  0|\n",
      "|      49|   Elneny|  Mohamed|8/11/2017|    1| CM| 66|  0|  1|  0|  0|\n",
      "|      26|  Holding|      Rob|8/11/2017|    1| CB| 66|  0|  0|  0|  0|\n",
      "|      18|Kolasinac|     Sead|8/11/2017|    1| CB| 90|  0|  1|  0|  0|\n",
      "|      10|Lacazette|Alexandre|8/11/2017|    1| FW| 90|  1|  0|  0|  0|\n",
      "|      21|  Monreal|    Nacho|8/11/2017|    1| CB| 90|  0|  0|  0|  0|\n",
      "|      53|     Ozil|    Mesut|8/11/2017|    1| AM| 90|  0|  0|  0|  0|\n",
      "|      13|  Welbeck|    Danny|8/11/2017|    1| AM| 74|  1|  0|  0|  0|\n",
      "|      44|    Xhaka|   Granit|8/11/2017|    1| CM| 90|  0|  2|  0|  0|\n",
      "|       5|   Ramsey|    Aaron|8/11/2017|    0| DM| 24|  1|  0|  0|  0|\n",
      "|       2| Bellerin|   Hector|8/19/2017|    1| WB| 90|  0|  0|  0|  0|\n",
      "|      18|Kolasinac|     Sead|8/19/2017|    1| CB| 65|  0|  0|  0|  0|\n",
      "|      10|Lacazette|Alexandre|8/19/2017|    1| FW| 77|  0|  0|  0|  0|\n",
      "|      21|  Monreal|    Nacho|8/19/2017|    1| CB| 90|  0|  0|  0|  0|\n",
      "|       8|  Mustafi| Shkodran|8/19/2017|    1| CB| 90|  0|  0|  0|  0|\n",
      "|      53|     Ozil|    Mesut|8/19/2017|    1| AM| 90|  0|  0|  0|  0|\n",
      "|       5|   Ramsey|    Aaron|8/19/2017|    1| CM| 90|  0|  0|  0|  0|\n",
      "|      13|  Welbeck|    Danny|8/19/2017|    1| AM| 90|  0|  0|  0|  0|\n",
      "|      44|    Xhaka|   Granit|8/19/2017|    1| CM| 78|  0|  0|  0|  0|\n",
      "|      50|    Iwobi|     Alex|8/19/2017|    0| DM| 12|  0|  0|  0|  0|\n",
      "+--------+---------+---------+---------+-----+---+---+---+---+---+---+\n",
      "only showing top 20 rows\n",
      "\n"
     ]
    }
   ],
   "source": [
    "dimPlayer.select('PlayerID',\n",
    "'LastName',\n",
    " 'FirstName',\n",
    " 'Date',\n",
    " 'Start',\n",
    " 'Pos',\n",
    " 'Min',\n",
    " 'G',\n",
    " 'A',\n",
    " 'PK',\n",
    " 'PKA' \n",
    ").show()"
   ]
  },
  {
   "cell_type": "code",
   "execution_count": null,
   "id": "ee1553d3-1350-449b-9768-bc7e099ad8cb",
   "metadata": {},
   "outputs": [],
   "source": []
  },
  {
   "cell_type": "code",
   "execution_count": null,
   "id": "46437d62-cde6-4aac-90d4-032d525b0830",
   "metadata": {},
   "outputs": [],
   "source": []
  },
  {
   "cell_type": "code",
   "execution_count": null,
   "id": "f67056c1-9464-4fc0-bcce-2c5442fc65f1",
   "metadata": {},
   "outputs": [],
   "source": []
  },
  {
   "cell_type": "code",
   "execution_count": null,
   "id": "2709acf6-9f95-48a3-80c8-ceff99d3629d",
   "metadata": {},
   "outputs": [],
   "source": []
  },
  {
   "cell_type": "code",
   "execution_count": null,
   "id": "2ba76999-3f44-43d5-8509-716cd199affe",
   "metadata": {},
   "outputs": [],
   "source": []
  },
  {
   "cell_type": "code",
   "execution_count": null,
   "id": "42115245-3583-4468-8364-ea3c6eae81be",
   "metadata": {},
   "outputs": [],
   "source": []
  },
  {
   "cell_type": "code",
   "execution_count": null,
   "id": "39000439-e6ba-42cb-8ef4-73c4cc498299",
   "metadata": {},
   "outputs": [],
   "source": []
  },
  {
   "cell_type": "code",
   "execution_count": null,
   "id": "46506b45-763f-41f1-abf6-88076197ffe9",
   "metadata": {},
   "outputs": [],
   "source": []
  },
  {
   "cell_type": "code",
   "execution_count": null,
   "id": "a3f8c507-1771-436b-be42-7c58deffb20c",
   "metadata": {},
   "outputs": [],
   "source": []
  }
 ],
 "metadata": {
  "kernelspec": {
   "display_name": "Python 3 (ipykernel)",
   "language": "python",
   "name": "python3"
  },
  "language_info": {
   "codemirror_mode": {
    "name": "ipython",
    "version": 3
   },
   "file_extension": ".py",
   "mimetype": "text/x-python",
   "name": "python",
   "nbconvert_exporter": "python",
   "pygments_lexer": "ipython3",
   "version": "3.11.6"
  }
 },
 "nbformat": 4,
 "nbformat_minor": 5
}
