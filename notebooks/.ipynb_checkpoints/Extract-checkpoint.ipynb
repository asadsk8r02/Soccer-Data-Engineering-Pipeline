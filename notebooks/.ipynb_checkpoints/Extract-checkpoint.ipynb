{
 "cells": [
  {
   "cell_type": "code",
   "execution_count": 1,
   "id": "0e061531-81a4-44cd-8054-c5c181280ab5",
   "metadata": {},
   "outputs": [],
   "source": [
    "from pyspark.sql import SparkSession\n",
    "from pyspark.sql.functions import *"
   ]
  },
  {
   "cell_type": "code",
   "execution_count": 2,
   "id": "a901b6a1-7777-4b2b-8e74-6b538f8a0d61",
   "metadata": {},
   "outputs": [
    {
     "name": "stdout",
     "output_type": "stream",
     "text": [
      "<pyspark.sql.session.SparkSession object at 0xffff84900910>\n"
     ]
    }
   ],
   "source": [
    "spark = SparkSession.builder.config(\"spark.jars\", \"/Drivers/SQL_Sever/jdbc/postgresql-42.7.3.jar\")\\\n",
    ".getOrCreate()\n",
    "print(spark)"
   ]
  },
  {
   "cell_type": "code",
   "execution_count": 3,
   "id": "3d40b428-54c4-43a4-adb7-55730ac03d06",
   "metadata": {},
   "outputs": [],
   "source": [
    "# def sparkSession():\n",
    "#     # Create a Spark session\n",
    "#     from pyspark.sql import SparkSession\n",
    "#     spark = SparkSession.builder \\\n",
    "#     .appName(\"ETL\") \\\n",
    "#     .config(\"spark.jars\", \"/opt/bitnami/spark/drivers/postgresql-42.7.3.jar\") \\\n",
    "#     .getOrCreate()\n",
    "#     return spark\n"
   ]
  },
  {
   "cell_type": "code",
   "execution_count": 4,
   "id": "65ef8d99-b50c-4709-8b3f-07c95e95153d",
   "metadata": {},
   "outputs": [],
   "source": [
    "# spark = sparkSession()"
   ]
  },
  {
   "cell_type": "code",
   "execution_count": 5,
   "id": "3e77eb8b-c27c-4cad-bab7-349d7b6cc601",
   "metadata": {},
   "outputs": [],
   "source": [
    "DfMatches=spark.read.csv(\"/home/jovyan/work/data/matches.csv\", header=True)"
   ]
  },
  {
   "cell_type": "markdown",
   "id": "5c5494a7-9597-4d1a-98a3-efbce7a352f6",
   "metadata": {},
   "source": [
    "DfMatches.write.format(\"jdbc\") \\\n",
    ".option(\"url\", f\"jdbc:postgresql://{ip}:{port}:\\{dbname}\")"
   ]
  },
  {
   "cell_type": "code",
   "execution_count": 6,
   "id": "b3393e15-2048-4c4a-a6cb-7ec216643b9f",
   "metadata": {},
   "outputs": [],
   "source": [
    "# DfMatches.show()\n",
    "# DfMatches.printSchema()"
   ]
  },
  {
   "cell_type": "code",
   "execution_count": 7,
   "id": "66d0f1c1-d231-4d48-a246-9188984c9da6",
   "metadata": {},
   "outputs": [],
   "source": [
    "DfMatches.write.format(\"jdbc\") \\\n",
    "        .option(\"url\", \"jdbc:postgresql://postgres:5432/arsenalfc\") \\\n",
    "        .option(\"driver\", \"org.postgresql.Driver\") \\\n",
    "        .option(\"dbtable\", \"arsenalmatches\") \\\n",
    "        .option(\"user\", \"postgres\") \\\n",
    "        .option(\"password\", \"postgres\") \\\n",
    "        .mode(\"overwrite\") \\\n",
    "        .save()"
   ]
  },
  {
   "cell_type": "code",
   "execution_count": 8,
   "id": "6a051002-2965-4d95-8c68-8e67f6967bb3",
   "metadata": {},
   "outputs": [],
   "source": [
    "DfGK=spark.read.csv(\"/home/jovyan/work/data/goalkeepers.csv\", header=True)"
   ]
  },
  {
   "cell_type": "code",
   "execution_count": 9,
   "id": "c5b4b683-4e19-4e57-8093-d0ee4ee4e381",
   "metadata": {},
   "outputs": [],
   "source": [
    "# DfGK.show()\n",
    "# DfGK.printSchema()"
   ]
  },
  {
   "cell_type": "code",
   "execution_count": 10,
   "id": "8ac01463-a160-4260-bdee-2e034be19aae",
   "metadata": {},
   "outputs": [],
   "source": [
    "DfGK.write.format(\"jdbc\") \\\n",
    "        .option(\"url\", \"jdbc:postgresql://postgres:5432/arsenalfc\") \\\n",
    "        .option(\"driver\", \"org.postgresql.Driver\") \\\n",
    "        .option(\"dbtable\", \"arsenalgk\") \\\n",
    "        .option(\"user\", \"postgres\") \\\n",
    "        .option(\"password\", \"postgres\") \\\n",
    "        .mode(\"overwrite\") \\\n",
    "        .save()"
   ]
  },
  {
   "cell_type": "code",
   "execution_count": 11,
   "id": "23d61c60-41e5-46bc-b4de-ae6fd0b9bdca",
   "metadata": {},
   "outputs": [],
   "source": [
    "DfPlayers=spark.read.csv(\"/home/jovyan/work/data/players.csv\", header=True)"
   ]
  },
  {
   "cell_type": "code",
   "execution_count": 12,
   "id": "ea66b4f6-6bbd-4e8a-aa2a-0b8b8dc264a6",
   "metadata": {},
   "outputs": [],
   "source": [
    "DfPlayers.write.format(\"jdbc\") \\\n",
    "        .option(\"url\", \"jdbc:postgresql://postgres:5432/arsenalfc\") \\\n",
    "        .option(\"driver\", \"org.postgresql.Driver\") \\\n",
    "        .option(\"dbtable\", \"arsenalplayers\") \\\n",
    "        .option(\"user\", \"postgres\") \\\n",
    "        .option(\"password\", \"postgres\") \\\n",
    "        .mode(\"overwrite\") \\\n",
    "        .save()"
   ]
  },
  {
   "cell_type": "code",
   "execution_count": null,
   "id": "21a55165-2cbf-4255-85b1-6e7b9eb8272b",
   "metadata": {},
   "outputs": [],
   "source": []
  },
  {
   "cell_type": "code",
   "execution_count": null,
   "id": "d01515d0-46d9-4d25-ba3c-3e556aebe6e9",
   "metadata": {},
   "outputs": [],
   "source": []
  },
  {
   "cell_type": "code",
   "execution_count": null,
   "id": "3813debe-4931-4162-a554-5eec908db59d",
   "metadata": {},
   "outputs": [],
   "source": []
  },
  {
   "cell_type": "code",
   "execution_count": null,
   "id": "b10fc709-d6d4-4c52-b4b5-dfb15a0ef666",
   "metadata": {},
   "outputs": [],
   "source": []
  },
  {
   "cell_type": "code",
   "execution_count": null,
   "id": "04f2738e-6f5d-49fc-abe7-8a3cc85d4413",
   "metadata": {},
   "outputs": [],
   "source": []
  },
  {
   "cell_type": "code",
   "execution_count": null,
   "id": "d53f9c08-969a-4662-b86b-4b0718935918",
   "metadata": {},
   "outputs": [],
   "source": []
  }
 ],
 "metadata": {
  "kernelspec": {
   "display_name": "Python 3 (ipykernel)",
   "language": "python",
   "name": "python3"
  },
  "language_info": {
   "codemirror_mode": {
    "name": "ipython",
    "version": 3
   },
   "file_extension": ".py",
   "mimetype": "text/x-python",
   "name": "python",
   "nbconvert_exporter": "python",
   "pygments_lexer": "ipython3",
   "version": "3.11.6"
  }
 },
 "nbformat": 4,
 "nbformat_minor": 5
}
