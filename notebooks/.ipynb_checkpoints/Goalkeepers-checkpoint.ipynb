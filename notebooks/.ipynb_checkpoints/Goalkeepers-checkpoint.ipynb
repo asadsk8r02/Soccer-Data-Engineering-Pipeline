{
 "cells": [
  {
   "cell_type": "markdown",
   "id": "cd221a04-9698-4e71-99ca-f5e3cdb359d2",
   "metadata": {},
   "source": [
    "### Transforming the GK DIMTable "
   ]
  },
  {
   "cell_type": "code",
   "execution_count": 48,
   "id": "c22535be-54f0-49c8-a859-25fecaae01a3",
   "metadata": {},
   "outputs": [],
   "source": [
    "from pyspark.sql import SparkSession\n",
    "from pyspark.sql.functions import *"
   ]
  },
  {
   "cell_type": "code",
   "execution_count": 49,
   "id": "2dd38ef5-5641-4a08-8826-11012506df05",
   "metadata": {},
   "outputs": [],
   "source": [
    "spark= SparkSession.builder.getOrCreate()"
   ]
  },
  {
   "cell_type": "code",
   "execution_count": 50,
   "id": "968d3461-990c-4fb2-8084-a559fc019854",
   "metadata": {},
   "outputs": [],
   "source": [
    "GoalKeepers = spark.read.format('csv')\\\n",
    "    .option(\"header\", \"True\")\\\n",
    "    .option(\"inferSchema\", \"True\")\\\n",
    "    .load(\"/home/jovyan/work/data/goalkeepers.csv\")"
   ]
  },
  {
   "cell_type": "code",
   "execution_count": 51,
   "id": "12b5cebd-3092-40dc-922d-6b6ef8106f14",
   "metadata": {},
   "outputs": [
    {
     "data": {
      "text/plain": [
       "['LastName',\n",
       " 'FirstName',\n",
       " 'Date',\n",
       " 'Start',\n",
       " 'Pos',\n",
       " 'Min',\n",
       " 'SoTA',\n",
       " 'GA',\n",
       " 'Saves',\n",
       " 'PSxG',\n",
       " 'PKatt',\n",
       " 'PKA',\n",
       " 'PKm',\n",
       " 'PassAtt',\n",
       " 'Throws',\n",
       " 'AvgLen',\n",
       " 'GKAtt',\n",
       " 'GKAvgLen',\n",
       " 'C']"
      ]
     },
     "execution_count": 51,
     "metadata": {},
     "output_type": "execute_result"
    }
   ],
   "source": [
    "GoalKeepers.columns"
   ]
  },
  {
   "cell_type": "code",
   "execution_count": 65,
   "id": "9d822d5d-abe7-42ca-972b-8fe23467e901",
   "metadata": {},
   "outputs": [],
   "source": [
    "GoalKeepers.createOrReplaceTempView(\"GK\")"
   ]
  },
  {
   "cell_type": "code",
   "execution_count": 66,
   "id": "50c2f249-b401-4ce8-adc4-0ba1229f1ed2",
   "metadata": {},
   "outputs": [
    {
     "name": "stdout",
     "output_type": "stream",
     "text": [
      "+------------+\n",
      "|fullname    |\n",
      "+------------+\n",
      "|David Ospina|\n",
      "|Petr Cech   |\n",
      "|Petr Cech   |\n",
      "|David Ospina|\n",
      "|David Ospina|\n",
      "+------------+\n",
      "only showing top 5 rows\n",
      "\n"
     ]
    }
   ],
   "source": [
    "GoalKeepers= GoalKeepers.withColumn('fullname', concat_ws(\" \", col('FirstName'),col('LastName')))\n",
    "GoalKeepers.select(\"fullname\").show(5, False)"
   ]
  },
  {
   "cell_type": "code",
   "execution_count": 67,
   "id": "fe95cb6f-8813-4e8d-a1d7-3b562fd95cd5",
   "metadata": {},
   "outputs": [],
   "source": [
    "GoalKeepers_f = spark.sql(\"\"\"\n",
    "    select distinct concat(firstname, \" \", lastname) as fullname\n",
    "    from GK\n",
    "\n",
    "\"\"\")\n"
   ]
  },
  {
   "cell_type": "code",
   "execution_count": 68,
   "id": "7a1249b1-6eb1-4d3f-bd49-190fc0cc73ba",
   "metadata": {},
   "outputs": [
    {
     "data": {
      "text/plain": [
       "['fullname']"
      ]
     },
     "execution_count": 68,
     "metadata": {},
     "output_type": "execute_result"
    }
   ],
   "source": [
    "GoalKeepers_f.columns"
   ]
  },
  {
   "cell_type": "code",
   "execution_count": 69,
   "id": "2f8309db-156f-4e93-b58b-17bf07180b13",
   "metadata": {},
   "outputs": [
    {
     "name": "stdout",
     "output_type": "stream",
     "text": [
      "+------------------------+\n",
      "|count(DISTINCT fullname)|\n",
      "+------------------------+\n",
      "|                       7|\n",
      "+------------------------+\n",
      "\n"
     ]
    }
   ],
   "source": [
    "GK_ = spark.sql(\"\"\"\n",
    "    select Count(distinct fullname) from GK\n",
    "\"\"\").show()"
   ]
  },
  {
   "cell_type": "code",
   "execution_count": 70,
   "id": "dc63dfd6-0959-438c-87e9-ccbed0405730",
   "metadata": {},
   "outputs": [],
   "source": [
    "GoalKeepers_f= GoalKeepers_f.withColumn('GkID',monotonically_increasing_id()+1)\n"
   ]
  },
  {
   "cell_type": "code",
   "execution_count": 71,
   "id": "35c89213-0237-4611-8e75-10abb52d72cb",
   "metadata": {},
   "outputs": [
    {
     "name": "stdout",
     "output_type": "stream",
     "text": [
      "+-----------------+----+\n",
      "|         fullname|GkID|\n",
      "+-----------------+----+\n",
      "|Emiliano Martinez|   1|\n",
      "|   Aaron Ramsdale|   2|\n",
      "|       Bernd Leno|   3|\n",
      "|        Petr Cech|   4|\n",
      "|  Runar Runarsson|   5|\n",
      "|      Mathew Ryan|   6|\n",
      "|     David Ospina|   7|\n",
      "+-----------------+----+\n",
      "\n"
     ]
    }
   ],
   "source": [
    "GoalKeepers_f.show()"
   ]
  },
  {
   "cell_type": "code",
   "execution_count": 72,
   "id": "621c9440-ca4b-49e6-b798-643486f15e85",
   "metadata": {},
   "outputs": [],
   "source": [
    "DimGoalKeepers= GoalKeepers.join(GoalKeepers_f, on ='fullname', how=\"inner\")"
   ]
  },
  {
   "cell_type": "code",
   "execution_count": 73,
   "id": "f235cedc-42f7-4eb4-a720-3ce71cb009b9",
   "metadata": {},
   "outputs": [
    {
     "name": "stdout",
     "output_type": "stream",
     "text": [
      "+------------+--------+---------+----------+-----+---+---+----+---+-----+----+-----+----+----+-------+------+------+-----+--------+---+----+\n",
      "|    fullname|LastName|FirstName|      Date|Start|Pos|Min|SoTA| GA|Saves|PSxG|PKatt| PKA| PKm|PassAtt|Throws|AvgLen|GKAtt|GKAvgLen|  C|GkID|\n",
      "+------------+--------+---------+----------+-----+---+---+----+---+-----+----+-----+----+----+-------+------+------+-----+--------+---+----+\n",
      "|David Ospina|  Ospina|    David| 5/13/2018|    1| GK| 90|   3|  0|    3| 0.4|    0|   0|   0|     39|     8|  31.9|    9|    48.2|  0|   7|\n",
      "|   Petr Cech|    Cech|     Petr|  5/9/2018|    1| GK| 90|  10|  3|    7| 3.2|    1|   1|   0|     26|     7|  34.5|   11|    66.0|  1|   4|\n",
      "|   Petr Cech|    Cech|     Petr|  5/6/2018|    1| GK| 90|   2|  0|    2| 0.2|    0|   0|   0|     31|     8|  32.4|    2|    56.0|  1|   4|\n",
      "|David Ospina|  Ospina|    David| 4/29/2018|    1| GK| 90|   2|  2|    0| 1.3|    0|   0|   0|     15|     4|  41.1|    5|    49.0|  0|   7|\n",
      "|David Ospina|  Ospina|    David| 4/22/2018|    1| GK| 90|   4|  1|    3| 0.6|    0|   0|   0|     24|     6|  20.8|    4|    44.3|  0|   7|\n",
      "|   Petr Cech|    Cech|     Petr| 4/15/2018|    1| GK| 90|   4|  2|    2| 0.6|    0|   0|   0|     28|     6|  26.3|    6|    34.0|  1|   4|\n",
      "|   Petr Cech|    Cech|     Petr|  4/8/2018|    1| GK| 90|   7|  2|    5| 2.6|    0|   0|   0|     17|     9|  33.5|    6|    52.8|  1|   4|\n",
      "|David Ospina|  Ospina|    David|  4/1/2018|    1| GK| 90|   2|  0|    2| 0.1|    0|   0|   0|     30|     6|  26.3|    7|    48.0|  0|   7|\n",
      "|   Petr Cech|    Cech|     Petr| 3/11/2018|    1| GK| 90|   4|  0|    3| 1.8|    1|   0|   0|     17|     7|  32.9|   11|    45.1|  1|   4|\n",
      "|   Petr Cech|    Cech|     Petr|  3/4/2018|    1| GK| 90|   6|  2|    4| 0.9|    0|   0|   0|     31|     7|  35.8|    7|    43.9|  0|   4|\n",
      "|   Petr Cech|    Cech|     Petr|  3/1/2018|    1| GK| 90|   5|  3|    2| 3.1|    0|   0|   0|     37|     5|  34.4|    2|    75.0|  0|   4|\n",
      "|   Petr Cech|    Cech|     Petr| 2/10/2018|    1| GK| 90|   6|  1|    5| 1.8|    0|   0|   0|     38|    12|  37.2|   13|    43.8|  0|   4|\n",
      "|   Petr Cech|    Cech|     Petr|  2/3/2018|    1| GK| 69|   1|  1| NULL| 0.3| NULL|NULL|NULL|     13|     2|  45.7|    6|    53.8|  0|   4|\n",
      "|David Ospina|  Ospina|    David|  2/3/2018|    0| GK| 21|   1|  0|    1| 0.1|    0|   0|   0|      8|     3|  31.1|    3|    46.3|  0|   7|\n",
      "|   Petr Cech|    Cech|     Petr| 1/30/2018|    1| GK| 90|   4|  3|    1| 2.8|    0|   0|   0|     19|     7|  27.4|    5|    37.8|  0|   4|\n",
      "|   Petr Cech|    Cech|     Petr| 1/20/2018|    1| GK| 90|   5|  1|    4| 1.1|    0|   0|   0|     27|     8|  28.4|    5|    47.8|  0|   4|\n",
      "|   Petr Cech|    Cech|     Petr| 1/14/2018|    1| GK| 90|   5|  2|    3| 0.3|    0|   0|   0|     28|     6|  43.8|    7|    59.0|  1|   4|\n",
      "|   Petr Cech|    Cech|     Petr|  1/3/2018|    1| GK| 90|   6|  2|    4| 2.0|    1|   1|   0|     20|     7|  27.0|   10|    34.7|  1|   4|\n",
      "|   Petr Cech|    Cech|     Petr|12/31/2017|    1| GK| 90|   3|  1|    2| 1.0|    1|   1|   0|     25|     8|  32.8|    7|    35.4|  0|   4|\n",
      "|   Petr Cech|    Cech|     Petr|12/28/2017|    1| GK| 90|   2|  2|    0| 0.6|    0|   0|   0|     16|     4|  33.2|   13|    44.4|  0|   4|\n",
      "+------------+--------+---------+----------+-----+---+---+----+---+-----+----+-----+----+----+-------+------+------+-----+--------+---+----+\n",
      "only showing top 20 rows\n",
      "\n"
     ]
    }
   ],
   "source": [
    "DimGoalKeepers.show()"
   ]
  },
  {
   "cell_type": "code",
   "execution_count": 74,
   "id": "6fd49087-fe00-4543-8eaa-df1e03070d40",
   "metadata": {},
   "outputs": [
    {
     "data": {
      "text/plain": [
       "['fullname',\n",
       " 'LastName',\n",
       " 'FirstName',\n",
       " 'Date',\n",
       " 'Start',\n",
       " 'Pos',\n",
       " 'Min',\n",
       " 'SoTA',\n",
       " 'GA',\n",
       " 'Saves',\n",
       " 'PSxG',\n",
       " 'PKatt',\n",
       " 'PKA',\n",
       " 'PKm',\n",
       " 'PassAtt',\n",
       " 'Throws',\n",
       " 'AvgLen',\n",
       " 'GKAtt',\n",
       " 'GKAvgLen',\n",
       " 'C',\n",
       " 'GkID']"
      ]
     },
     "execution_count": 74,
     "metadata": {},
     "output_type": "execute_result"
    }
   ],
   "source": [
    "DimGoalKeepers.columns"
   ]
  },
  {
   "cell_type": "code",
   "execution_count": 75,
   "id": "65eecbb6-2fc7-49b0-a99f-51f4fa7736d8",
   "metadata": {},
   "outputs": [],
   "source": [
    "DimGoalKeepers.write.csv('/home/jovyan/work/data/DimGoalkeeper', header=True, mode=\"overwrite\")"
   ]
  },
  {
   "cell_type": "markdown",
   "id": "2963ef91-821e-49db-a7bc-0af98f8c44a2",
   "metadata": {},
   "source": [
    "### Creating the FactGK "
   ]
  },
  {
   "cell_type": "code",
   "execution_count": 76,
   "id": "5e4310a7-859c-4285-852b-e03d0e6f0e7a",
   "metadata": {},
   "outputs": [],
   "source": [
    "DimMatches = spark.read.format('csv')\\\n",
    "    .option(\"header\", \"True\")\\\n",
    "    .option(\"inferSchema\", \"True\")\\\n",
    "    .load(\"/home/jovyan/work/data/DimMatches/DimMatches.csv\")"
   ]
  },
  {
   "cell_type": "code",
   "execution_count": 77,
   "id": "cf20df6d-5a1b-4622-b6a2-84fae8b4f94e",
   "metadata": {},
   "outputs": [
    {
     "data": {
      "text/plain": [
       "['Date',\n",
       " 'Season',\n",
       " 'Tour',\n",
       " 'Time',\n",
       " 'Opponent',\n",
       " 'HoAw',\n",
       " 'ArsenalScore',\n",
       " 'OpponentScore',\n",
       " 'Stadium',\n",
       " 'Attendance',\n",
       " 'Coach',\n",
       " 'Referee',\n",
       " 'MatchID',\n",
       " 'fullname',\n",
       " 'LastName',\n",
       " 'FirstName',\n",
       " 'Start',\n",
       " 'Pos',\n",
       " 'Min',\n",
       " 'SoTA',\n",
       " 'GA',\n",
       " 'Saves',\n",
       " 'PSxG',\n",
       " 'PKatt',\n",
       " 'PKA',\n",
       " 'PKm',\n",
       " 'PassAtt',\n",
       " 'Throws',\n",
       " 'AvgLen',\n",
       " 'GKAtt',\n",
       " 'GKAvgLen',\n",
       " 'C',\n",
       " 'GkID']"
      ]
     },
     "execution_count": 77,
     "metadata": {},
     "output_type": "execute_result"
    }
   ],
   "source": [
    "FactGk = DimMatches.join(DimGoalKeepers, on='Date', how='left')\n",
    "FactGk.columns"
   ]
  },
  {
   "cell_type": "code",
   "execution_count": 78,
   "id": "8ec65664-5f91-4186-a726-c2222f1f4b97",
   "metadata": {},
   "outputs": [],
   "source": [
    "FactGK = FactGk.drop( \n",
    " 'Season',\n",
    " 'Tour',\n",
    " 'Time',\n",
    " 'Opponent',\n",
    " 'HoAw',\n",
    " 'Stadium',\n",
    " 'Coach',\n",
    " 'Referee',\n",
    "  'Pos',\n",
    "    'C',\n",
    "'fullname',\n",
    " 'LastName',\n",
    " 'FirstName'\n",
    " \n",
    ")"
   ]
  },
  {
   "cell_type": "code",
   "execution_count": 79,
   "id": "5bb82cdb-f0c6-429d-a0e5-e34777747afc",
   "metadata": {},
   "outputs": [
    {
     "data": {
      "text/plain": [
       "['Date',\n",
       " 'ArsenalScore',\n",
       " 'OpponentScore',\n",
       " 'Attendance',\n",
       " 'MatchID',\n",
       " 'Start',\n",
       " 'Min',\n",
       " 'SoTA',\n",
       " 'GA',\n",
       " 'Saves',\n",
       " 'PSxG',\n",
       " 'PKatt',\n",
       " 'PKA',\n",
       " 'PKm',\n",
       " 'PassAtt',\n",
       " 'Throws',\n",
       " 'AvgLen',\n",
       " 'GKAtt',\n",
       " 'GKAvgLen',\n",
       " 'GkID']"
      ]
     },
     "execution_count": 79,
     "metadata": {},
     "output_type": "execute_result"
    }
   ],
   "source": [
    "FactGK.columns"
   ]
  },
  {
   "cell_type": "code",
   "execution_count": 80,
   "id": "f533e64d-e9b6-439e-a800-3ec5cf0da6aa",
   "metadata": {},
   "outputs": [],
   "source": [
    "FactGK.write.csv('/home/jovyan/work/data/FactGK', header=True, mode=\"overwrite\")"
   ]
  },
  {
   "cell_type": "code",
   "execution_count": null,
   "id": "9d412a72-8ef4-45ca-afd2-258b91bce381",
   "metadata": {},
   "outputs": [],
   "source": []
  },
  {
   "cell_type": "code",
   "execution_count": null,
   "id": "d372e454-6f10-44eb-a567-2697f106f499",
   "metadata": {},
   "outputs": [],
   "source": []
  },
  {
   "cell_type": "code",
   "execution_count": null,
   "id": "58111933-ab6a-46a5-8cfe-a8b4536d3287",
   "metadata": {},
   "outputs": [],
   "source": []
  },
  {
   "cell_type": "code",
   "execution_count": null,
   "id": "103af185-24cc-489a-987b-5f2290c30d7b",
   "metadata": {},
   "outputs": [],
   "source": []
  },
  {
   "cell_type": "code",
   "execution_count": null,
   "id": "5f881c4d-ac18-4a70-a975-16900e746b2f",
   "metadata": {},
   "outputs": [],
   "source": []
  },
  {
   "cell_type": "code",
   "execution_count": null,
   "id": "015d9a2b-cc79-4145-9f74-666abed1cf68",
   "metadata": {},
   "outputs": [],
   "source": []
  },
  {
   "cell_type": "code",
   "execution_count": null,
   "id": "89b307e3-69dd-4afc-99b8-9b0f089e5fde",
   "metadata": {},
   "outputs": [],
   "source": []
  },
  {
   "cell_type": "code",
   "execution_count": null,
   "id": "c50548b3-210a-4470-adc8-b8f07ccb74c9",
   "metadata": {},
   "outputs": [],
   "source": []
  },
  {
   "cell_type": "code",
   "execution_count": null,
   "id": "0536c537-a864-4ce0-a463-4e666c0b087b",
   "metadata": {},
   "outputs": [],
   "source": []
  }
 ],
 "metadata": {
  "kernelspec": {
   "display_name": "Python 3 (ipykernel)",
   "language": "python",
   "name": "python3"
  },
  "language_info": {
   "codemirror_mode": {
    "name": "ipython",
    "version": 3
   },
   "file_extension": ".py",
   "mimetype": "text/x-python",
   "name": "python",
   "nbconvert_exporter": "python",
   "pygments_lexer": "ipython3",
   "version": "3.11.6"
  }
 },
 "nbformat": 4,
 "nbformat_minor": 5
}
